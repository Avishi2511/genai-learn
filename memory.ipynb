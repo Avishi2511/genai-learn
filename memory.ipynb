{
 "cells": [
  {
   "cell_type": "markdown",
   "id": "82a89248",
   "metadata": {},
   "source": [
    "### Coversational Buffer Memory "
   ]
  },
  {
   "cell_type": "markdown",
   "id": "766f7e8b",
   "metadata": {},
   "source": [
    "#### We can attach memory to remember prev converations"
   ]
  },
  {
   "cell_type": "code",
   "execution_count": null,
   "id": "290a184a",
   "metadata": {},
   "outputs": [],
   "source": [
    "from langchain.memory import ConversationBufferMemory"
   ]
  },
  {
   "cell_type": "code",
   "execution_count": 1,
   "id": "a4485820",
   "metadata": {},
   "outputs": [
    {
     "ename": "NameError",
     "evalue": "name 'ConversationBufferMemory' is not defined",
     "output_type": "error",
     "traceback": [
      "\u001b[1;31m---------------------------------------------------------------------------\u001b[0m",
      "\u001b[1;31mNameError\u001b[0m                                 Traceback (most recent call last)",
      "Cell \u001b[1;32mIn[1], line 1\u001b[0m\n\u001b[1;32m----> 1\u001b[0m memory \u001b[38;5;241m=\u001b[39m \u001b[43mConversationBufferMemory\u001b[49m()\n",
      "\u001b[1;31mNameError\u001b[0m: name 'ConversationBufferMemory' is not defined"
     ]
    }
   ],
   "source": [
    "memory = ConversationBufferMemory()"
   ]
  },
  {
   "cell_type": "code",
   "execution_count": null,
   "id": "cdbf8665",
   "metadata": {},
   "outputs": [],
   "source": [
    "prompt_template_name = PromptTemplate(\n",
    "    input_variables=[\"product\"],\n",
    "    template = \"What would be a good name for a company that makes {product}?\",\n",
    ")"
   ]
  },
  {
   "cell_type": "code",
   "execution_count": null,
   "id": "278e3f9d",
   "metadata": {},
   "outputs": [],
   "source": [
    "chain = LLMChain(llm=client, prompt = prompt_template_name, memory=memory)"
   ]
  },
  {
   "cell_type": "code",
   "execution_count": null,
   "id": "ccd9e3b5",
   "metadata": {},
   "outputs": [],
   "source": [
    "chain.run(\"Wines\")"
   ]
  },
  {
   "cell_type": "code",
   "execution_count": null,
   "id": "53979ca8",
   "metadata": {},
   "outputs": [],
   "source": [
    "chain.memory"
   ]
  },
  {
   "cell_type": "code",
   "execution_count": null,
   "id": "950ea75b",
   "metadata": {},
   "outputs": [],
   "source": [
    "print(chain.memory.buffer)"
   ]
  },
  {
   "cell_type": "markdown",
   "id": "2f882412",
   "metadata": {},
   "source": [
    "## ConversationChain"
   ]
  },
  {
   "cell_type": "code",
   "execution_count": 4,
   "id": "61b7b91e",
   "metadata": {},
   "outputs": [],
   "source": [
    "from langchain.chains import ConversationChain\n",
    "from langchain.llms import OpenAI"
   ]
  },
  {
   "cell_type": "code",
   "execution_count": 5,
   "id": "9bca9317",
   "metadata": {},
   "outputs": [
    {
     "ename": "NameError",
     "evalue": "name 'OpenAI_KEY' is not defined",
     "output_type": "error",
     "traceback": [
      "\u001b[1;31m---------------------------------------------------------------------------\u001b[0m",
      "\u001b[1;31mNameError\u001b[0m                                 Traceback (most recent call last)",
      "Cell \u001b[1;32mIn[5], line 1\u001b[0m\n\u001b[1;32m----> 1\u001b[0m convo \u001b[38;5;241m=\u001b[39m ConversationChain(llm \u001b[38;5;241m=\u001b[39m OpenAI(openai_api_key \u001b[38;5;241m=\u001b[39m \u001b[43mOpenAI_KEY\u001b[49m, temperature \u001b[38;5;241m=\u001b[39m \u001b[38;5;241m0.7\u001b[39m))\n",
      "\u001b[1;31mNameError\u001b[0m: name 'OpenAI_KEY' is not defined"
     ]
    }
   ],
   "source": [
    "convo = ConversationChain(llm = OpenAI(openai_api_key = OpenAI_KEY, temperature = 0.7))"
   ]
  },
  {
   "cell_type": "code",
   "execution_count": null,
   "id": "d245123c",
   "metadata": {},
   "outputs": [],
   "source": [
    "convo.prompt"
   ]
  },
  {
   "cell_type": "code",
   "execution_count": 6,
   "id": "3c6308e9",
   "metadata": {},
   "outputs": [],
   "source": [
    "### Now use some examples to test the conversation chain"
   ]
  },
  {
   "cell_type": "code",
   "execution_count": null,
   "id": "6ebdcd3d",
   "metadata": {},
   "outputs": [],
   "source": []
  }
 ],
 "metadata": {
  "kernelspec": {
   "display_name": "Python 3",
   "language": "python",
   "name": "python3"
  },
  "language_info": {
   "codemirror_mode": {
    "name": "ipython",
    "version": 3
   },
   "file_extension": ".py",
   "mimetype": "text/x-python",
   "name": "python",
   "nbconvert_exporter": "python",
   "pygments_lexer": "ipython3",
   "version": "3.12.0"
  }
 },
 "nbformat": 4,
 "nbformat_minor": 5
}
